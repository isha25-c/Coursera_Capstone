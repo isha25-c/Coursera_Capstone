{
    "cells": [
        {
            "cell_type": "markdown",
            "metadata": {},
            "source": "# <div align = \"center\">Applied Data Science Capstone, Week 1</div>"
        },
        {
            "cell_type": "markdown",
            "metadata": {},
            "source": "## 1. INTRODUCTION\n###    1.1 Description of the problem\n    There are always ups and downs in the real estate market. However, following the occurance of the pandemic, a new trend is being observed among the people looking for their new home- 'Healthy Lifestyle and healthy neighbourhood'. Home hunters are now looking for a home in a town/city where they can enjoy the nature as well as stay fit by involving themselves in different activities. They want to buy a home in a neighbourhood which gives plenty of different options to have an active lifestyle. As social distancing has become the need of the hour, people are preferring more open ground activities, rather than those inside closed rooms. \n    Real estate agents in connecticut need the help of data science to present the neighborhoods to their customer which have different healty activities around, like state parks for hiking, trails; farmers market for fresh food, beaches for recreation.\n\n###    1.2 Solution\n\n    In this project, I'll be using my knowledge of data science to analyze which towns/cities in Connecticut state have more number of venues that the real estate agents are currently interested in, viz. state parks, playgorunds, beaches, farmers markets, yoga studios etc. \n    To start with, I'll need the town/city data of connecticut, analyze the data and find clusters of towns/cities in connecticut having more number of venues of interest. Clustering method will help me achieve the required clusters."
        },
        {
            "cell_type": "markdown",
            "metadata": {},
            "source": "# 2. DATA\n###    2.1 Source\n    The data of list of Towns & Cities will be downloded from Wikipedia: https://en.wikipedia.org/wiki/List_of_towns_in_Connecticut.\n###    2.2 Description\n    The list on Wikipedia gives the table along with list of towns, population of towns, their respective counties, land area, designation, Council of governments. For this project, many of the colulumns will be dropped which will not contribute to the solution. Wrangling of data will be done in order to filter out the unnecesary data. The main column that we are focussed on is the 'Town', which will be used to obtain the geo-coordinates.\n    Coordinates of the towns will be collected using the geocoder package and these coordinates will be used in the foursquare application to find out the venues of interest.\n    The data obtained from foursquare will provide the information of all different types of venues in all the towns of connecticut. Our aim is to filter the venues of interest i.e parks, farmer's markets, beaches, yoga studios, gyms. All these venues contribute towards a healthy lifestyle.\n    "
        },
        {
            "cell_type": "code",
            "execution_count": null,
            "metadata": {},
            "outputs": [],
            "source": ""
        }
    ],
    "metadata": {
        "kernelspec": {
            "display_name": "Python 3.6",
            "language": "python",
            "name": "python3"
        },
        "language_info": {
            "codemirror_mode": {
                "name": "ipython",
                "version": 3
            },
            "file_extension": ".py",
            "mimetype": "text/x-python",
            "name": "python",
            "nbconvert_exporter": "python",
            "pygments_lexer": "ipython3",
            "version": "3.6.9"
        }
    },
    "nbformat": 4,
    "nbformat_minor": 1
}